{
 "cells": [
  {
   "cell_type": "markdown",
   "metadata": {
    "pycharm": {
     "name": "#%% md\n"
    }
   },
   "source": [
    "# Pool-based Active Learning - Simple Comparison Experiment"
   ]
  },
  {
   "cell_type": "markdown",
   "metadata": {
    "collapsed": false
   },
   "source": [
    "The main purpose of this tutorial is to ease the implementation of our library `scikit-activeml` to new users. `scikit-activeml` is a library that executes the most important query strategies. It is built upon the well-known machine learning frame-work `scikit-learn`, which makes it user-friendly. For better understanding, we show an exemplary active learning cycle here. Let's start by importing the relevant packages from both `scikit-learn` and `scikit-activeml`."
   ]
  },
  {
   "cell_type": "code",
   "execution_count": null,
   "metadata": {
    "collapsed": false,
    "pycharm": {
     "name": "#%%\n"
    }
   },
   "outputs": [],
   "source": [
    "import numpy as np\n",
    "import matplotlib.pyplot as plt\n",
    "\n",
    "from sklearn.linear_model import LogisticRegression\n",
    "from sklearn.datasets import make_classification\n",
    "from sklearn.model_selection import StratifiedKFold, KFold\n",
    "\n",
    "from skactiveml.classifier import SklearnClassifier, ParzenWindowClassifier\n",
    "from skactiveml.pool import UncertaintySampling, ProbabilisticAL\n",
    "from skactiveml.utils import unlabeled_indices, labeled_indices, MISSING_LABEL\n",
    "from skactiveml.visualization import plot_decision_boundary, plot_utilities\n",
    "\n",
    "import warnings\n",
    "warnings.filterwarnings(\"ignore\")"
   ]
  },
  {
   "cell_type": "markdown",
   "metadata": {},
   "source": [
    "# Random Seed Management\n",
    "To guarantee that the experiment is reproducible, we have to set the random states for all components that might use one. To simplify this, we make all random seeds dependent of a single fixed random state and use helper functions to generate new seeds and random states. Keep in mind that the master_random_state should only be used to create new random states or random seeds."
   ]
  },
  {
   "cell_type": "code",
   "execution_count": null,
   "metadata": {},
   "outputs": [],
   "source": [
    "master_random_state = np.random.RandomState(0)\n",
    "\n",
    "def gen_seed(random_state:np.random.RandomState):\n",
    "    return random_state.randint(0, 2**31)\n",
    "\n",
    "def gen_random_state(random_state:np.random.RandomState):\n",
    "    return np.random.RandomState(gen_seed(random_state))"
   ]
  },
  {
   "cell_type": "markdown",
   "metadata": {
    "collapsed": false
   },
   "source": [
    "## Data Set Generation\n",
    "We generate a data set of 100 data points with two clusters from the `make_classification` method of `scikit-learn`. This method also returns the true labels of each data point. In practice, however, we do not know these labels unless we ask an oracle. The labels are stored in `y_true`, which acts as an oracle."
   ]
  },
  {
   "cell_type": "code",
   "execution_count": null,
   "metadata": {
    "collapsed": false,
    "pycharm": {
     "name": "#%%\n"
    }
   },
   "outputs": [],
   "source": [
    "n_features = 2\n",
    "n_classes = 2\n",
    "classes = np.arange(n_classes)\n",
    "X, y_true = make_classification(\n",
    "    n_features=n_features, n_redundant=0, n_samples=400,\n",
    "    n_classes=n_classes, random_state=gen_seed(master_random_state))\n",
    "bound = [[min(X[:, 0]), min(X[:, 1])], [max(X[:, 0]), max(X[:, 1])]]\n",
    "plt.scatter(X[:, 0], X[:, 1], c=y_true, cmap='jet')\n",
    "plt.xlabel('Feature 1')\n",
    "plt.ylabel('Feature 2')\n",
    "plt.title('Data set');"
   ]
  },
  {
   "cell_type": "markdown",
   "metadata": {},
   "source": [
    "# Classification Models and Query Strategies\n",
    "We handle the creation of classifiers and query strategies using a factory functions to simplify the separation of classifiers and query strategies across repetitions and folds."
   ]
  },
  {
   "cell_type": "code",
   "execution_count": null,
   "metadata": {},
   "outputs": [],
   "source": [
    "def create_classifier(name, classes, random_state):\n",
    "    classifier_factory_functions = {\n",
    "        'PWC': lambda: ParzenWindowClassifier(\n",
    "            classes=classes,\n",
    "            random_state=gen_seed(random_state)\n",
    "        ),\n",
    "        'LR': lambda: SklearnClassifier(\n",
    "            LogisticRegression(random_state=gen_seed(random_state)),\n",
    "            classes=classes,\n",
    "            random_state=gen_seed(random_state)\n",
    "        )\n",
    "    }\n",
    "    return classifier_factory_functions[name]()\n",
    "\n",
    "def create_query_strategy(name, random_state):\n",
    "    query_strategy_factory_functions = {\n",
    "        'US': lambda: UncertaintySampling(random_state=gen_seed(random_state)),\n",
    "        'PAL': lambda: ProbabilisticAL(random_state=gen_seed(random_state))\n",
    "    }\n",
    "    return query_strategy_factory_functions[name]()"
   ]
  },
  {
   "cell_type": "markdown",
   "metadata": {},
   "source": [
    "## Experiment Parameters"
   ]
  },
  {
   "cell_type": "code",
   "execution_count": null,
   "metadata": {},
   "outputs": [],
   "source": [
    "n_reps = 10\n",
    "n_folds = 5\n",
    "n_cycles = 50\n",
    "use_stratified = True\n",
    "classifier_names = ['PWC', 'LR']\n",
    "query_strategy_names = ['US', 'PAL']"
   ]
  },
  {
   "cell_type": "code",
   "execution_count": null,
   "metadata": {},
   "outputs": [],
   "source": [
    "kfold_class = StratifiedKFold if use_stratified else KFold\n",
    "\n",
    "for clf_name in classifier_names:\n",
    "    print(clf_name)\n",
    "    for qs_name in query_strategy_names:\n",
    "        print(qs_name)\n",
    "        accuracies = np.full((n_reps, n_folds, n_cycles), np.nan)\n",
    "        for i_rep in range(n_reps):\n",
    "            print(i_rep)\n",
    "            kf = kfold_class(n_splits=n_folds, shuffle=True, random_state=gen_seed(master_random_state))\n",
    "            for i_fold, (train_idx, test_idx) in enumerate(kf.split(X, y_true)):\n",
    "                X_train = X[train_idx]\n",
    "                y_test = y_true[test_idx]\n",
    "                X_test = X[test_idx]\n",
    "                y_train = y_true[train_idx]\n",
    "\n",
    "                clf = create_classifier(clf_name, classes, gen_random_state(master_random_state))\n",
    "                qs = create_query_strategy(qs_name, gen_random_state(master_random_state))\n",
    "\n",
    "                y = np.full(shape=y_true.shape, fill_value=MISSING_LABEL)\n",
    "\n",
    "                clf.fit(X, y)\n",
    "                for c in range(n_cycles):\n",
    "                    query_idx = qs.query(X=X, y=y, clf=clf, batch_size=1)\n",
    "                    y[query_idx] = y_true[query_idx]\n",
    "                    clf.fit(X, y)\n",
    "\n",
    "                    # plotting\n",
    "                    unlbld_idx = unlabeled_indices(y)\n",
    "                    lbld_idx = labeled_indices(y)"
   ]
  }
 ],
 "metadata": {
  "kernelspec": {
   "display_name": "Python 3.8.13 ('scikit-activeml_new')",
   "language": "python",
   "name": "python3"
  },
  "language_info": {
   "codemirror_mode": {
    "name": "ipython",
    "version": 3
   },
   "file_extension": ".py",
   "mimetype": "text/x-python",
   "name": "python",
   "nbconvert_exporter": "python",
   "pygments_lexer": "ipython3",
   "version": "3.8.5"
  },
  "vscode": {
   "interpreter": {
    "hash": "5f7f39fe3328ce4c80050dfed4bc981a4accefc504063131eb9a2382ee31ded5"
   }
  }
 },
 "nbformat": 4,
 "nbformat_minor": 1
}
