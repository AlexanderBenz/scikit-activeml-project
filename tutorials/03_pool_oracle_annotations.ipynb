{
 "cells": [
  {
   "cell_type": "markdown",
   "metadata": {
    "pycharm": {
     "is_executing": true,
     "name": "#%% md\n"
    }
   },
   "source": [
    "# Sample Annotating"
   ]
  },
  {
   "cell_type": "markdown",
   "metadata": {
    "pycharm": {
     "name": "#%% md\n"
    }
   },
   "source": [
    "In supervised and semi-supervised machine learning it is necessary to label data after it was selected by an active learning algorithm. This tutorial shows how to make a simple annotation tool using [`ipyannotations`](https://ipyannotations.readthedocs.io/en/latest/index.html) and [`superintendent`](https://superintendent.readthedocs.io/en/latest/index.html). This tutorial requires prior knowledge of our framework. If you are not familiar with it, try some basic [tutorials](https://scikit-activeml.github.io/scikit-activeml-docs/tutorials.html)."
   ]
  },
  {
   "cell_type": "markdown",
   "metadata": {
    "pycharm": {
     "name": "#%% md\n"
    }
   },
   "source": [
    "## Installation and Configuration\n",
    "\n",
    "First, we'll need to install the necessary packages using pip."
   ]
  },
  {
   "cell_type": "code",
   "execution_count": null,
   "metadata": {
    "pycharm": {
     "is_executing": true
    }
   },
   "outputs": [],
   "source": [
    "!pip install ipyannotations\n",
    "!pip install superintendent"
   ]
  },
  {
   "cell_type": "markdown",
   "metadata": {
    "pycharm": {
     "name": "#%% md\n"
    }
   },
   "source": [
    "In same [cases](https://ipyannotations.readthedocs.io/en/latest/installing.html), it is necessary to install / configure the front-end extension as well."
   ]
  },
  {
   "cell_type": "code",
   "execution_count": null,
   "metadata": {
    "pycharm": {
     "name": "#%%\n"
    }
   },
   "outputs": [],
   "source": [
    "!jupyter nbextension install --user --py ipyannotations\n",
    "!jupyter nbextension enable --user --py ipyannotations"
   ]
  },
  {
   "cell_type": "markdown",
   "metadata": {
    "pycharm": {
     "name": "#%% md\n"
    }
   },
   "source": [
    "Now we can start by importing some packages."
   ]
  },
  {
   "cell_type": "code",
   "execution_count": 9,
   "metadata": {},
   "outputs": [],
   "source": [
    "import numpy as np\n",
    "import math\n",
    "from sklearn.model_selection import cross_val_score\n",
    "from sklearn.datasets import load_digits\n",
    "from sklearn.neural_network import MLPClassifier\n",
    "from sklearn.pipeline import Pipeline\n",
    "from sklearn.preprocessing import StandardScaler\n",
    "\n",
    "from skactiveml.utils import is_labeled\n",
    "from skactiveml.classifier import SklearnClassifier\n",
    "from skactiveml.pool import UncertaintySampling\n",
    "\n",
    "from superintendent import Superintendent\n",
    "from ipywidgets import widgets\n",
    "from ipyannotations.images import ClassLabeller\n",
    "\n",
    "import warnings\n",
    "warnings.filterwarnings(\"ignore\")"
   ]
  },
  {
   "cell_type": "markdown",
   "metadata": {
    "pycharm": {
     "name": "#%% md\n"
    }
   },
   "source": [
    "## The Annotation Widget Class\n",
    "\n",
    "Now we define the class `DataLabeler`, which inherits from `Superintendent`. To adapt it to our framework, we have to overwrite the constructor and the methods `_annotation_iterator` and `retrain`."
   ]
  },
  {
   "cell_type": "code",
   "execution_count": 10,
   "metadata": {
    "pycharm": {
     "name": "#%%\n"
    }
   },
   "outputs": [],
   "source": [
    "class DataLabeler(Superintendent):\n",
    "    \"\"\"DataLabeler\n",
    "\n",
    "    This class creates a widget for label assignments.\n",
    "\n",
    "    Parameters\n",
    "    ----------\n",
    "    X : array-like of shape (n_samples, n_features)\n",
    "        Training data set, usually complete, i.e. including the labeled and\n",
    "        unlabeled samples.\n",
    "    y : array-like of shape (n_samples)\n",
    "        Labels of the training data set (possibly including unlabeled ones\n",
    "        indicated by self.MISSING_LABEL.\n",
    "    model : skactiveml.base.SkactivemlClassifier or skactiveml.base.SkactivemlRegressor\n",
    "        Model implementing the method `fit`.\n",
    "    query_strategy : skactiveml.base.QueryStrategy\n",
    "        Query strategy used to select the next sample(s) to be labeled.\n",
    "    labelling_widget : Optional[widgets.Widget]\n",
    "        An input widget. This needs to follow the interface of the class\n",
    "        superintendent.controls.base.SubmissionWidgetMixin\n",
    "    batch_size : int, default=1\n",
    "        The number of samples to be selected in one AL cycle.\n",
    "    X_eval : array-like of shape (n_eval_samples, n_features), default=None\n",
    "        Evaluation data set that is used by the `eval_method`. Only used if\n",
    "        y_eval is specified.\n",
    "    y_eval : array-like of shape (n_eval_samples), default=None\n",
    "        Labels for the evaluation data set. Only used if X_eval is\n",
    "        specified.\n",
    "    eval_method : callable\n",
    "        A function that accepts three arguments - model, x, and y - and\n",
    "        returns a validation score of the model. If None,\n",
    "        sklearn.model_selection.cross_val_score is used.\n",
    "        \"\"\"\n",
    "    def __init__(\n",
    "            self,\n",
    "            X,\n",
    "            y,\n",
    "            model,\n",
    "            query_strategy,\n",
    "            labelling_widget,\n",
    "            batch_size=1,\n",
    "            X_eval=None,\n",
    "            y_eval=None,\n",
    "            eval_method = None,\n",
    "            n_cycles=None,\n",
    "            **kwargs,\n",
    "    ):\n",
    "        # Call the super constructor.\n",
    "        try:\n",
    "            super().__init__(\n",
    "                labelling_widget=labelling_widget,\n",
    "                eval_method=eval_method,\n",
    "                **kwargs\n",
    "            )\n",
    "        except AttributeError:\n",
    "            pass\n",
    "\n",
    "        # Assign parameters.\n",
    "        self.X = X\n",
    "        self.y = y\n",
    "        self.model = model\n",
    "        self.X_eval = X_eval\n",
    "        self.y_eval = y_eval\n",
    "        self.batch_size = batch_size\n",
    "        self.query_strategy = query_strategy\n",
    "        self.n_cycles = n_cycles or math.ceil(len(X)/batch_size)\n",
    "        \n",
    "        self.labeled_indices = []\n",
    "        self.candidates = np.arange(len(X))[~is_labeled(y)]\n",
    "\n",
    "        # Generate the widgets.\n",
    "        self.model_performance = widgets.HTML(value=\"\")\n",
    "        self.top_bar = widgets.HBox(\n",
    "            [\n",
    "                widgets.HBox(\n",
    "                    [self.progressbar],\n",
    "                    layout=widgets.Layout(width=\"50%\", justify_content=\"space-between\"),\n",
    "                ),\n",
    "                widgets.HBox(\n",
    "                    [self.model_performance],\n",
    "                    layout=widgets.Layout(width=\"50%\"),\n",
    "                ),\n",
    "            ]\n",
    "        )\n",
    "        self.children = [self.top_bar, self.labelling_widget]\n",
    "\n",
    "        # Start the annotation loop.\n",
    "        self._begin_annotation()\n",
    "\n",
    "    def _annotation_iterator(self):\n",
    "        \"\"\"The annotation loop.\"\"\"\n",
    "        self.children = [self.top_bar, self.labelling_widget]\n",
    "        self.progressbar.bar_style = \"\"\n",
    "        # Fit the model\n",
    "        self.retrain()\n",
    "        for i in range(self.n_cycles):\n",
    "            # Query the next samples.\n",
    "            idx = self.query_strategy.query(self.X.reshape(-1, 8*8), self.y, self.model, candidates=self.candidates, fit_clf=False, batch_size=self.batch_size)\n",
    "            j = 0\n",
    "            while j<len(idx):\n",
    "                # Display and label the next sample.\n",
    "                with self._render_hold_message(\"Loading...\"):\n",
    "                    self.labelling_widget.display(self.X[idx[j]])\n",
    "                y = yield\n",
    "                if y == 'undo':\n",
    "                    j -= 2\n",
    "                elif y is not None:\n",
    "                    self.labeled_indices.append(idx[j])\n",
    "                    self.y[idx[j]] = y\n",
    "                else:  # Skip\n",
    "                    self.candidates = self.candidates[self.candidates!=idx[j]]\n",
    "                self.progressbar.value = np.sum(is_labeled(self.y))/(min(self.n_cycles*self.batch_size, len(self.X)))\n",
    "                j += 1\n",
    "            # Fit the model.\n",
    "            self.retrain()\n",
    "            # Brake if all samples are labeled.\n",
    "            if np.all(is_labeled(self.y)):\n",
    "                break\n",
    "\n",
    "        yield self._render_finished()\n",
    "\n",
    "    def _undo(self):\n",
    "        self.y[self.labeled_indices.pop()] = self.model.missing_label\n",
    "        self._annotation_loop.send('undo')  # Advance next item\n",
    "\n",
    "\n",
    "    def retrain(self, button=None):\n",
    "        \"\"\"Re-train the model you passed when creating this widget.\n",
    "\n",
    "        This calls the fit method of your model with the data that you've\n",
    "        labelled. It will also score the classifier and display the\n",
    "        performance.\n",
    "\n",
    "        Parameters\n",
    "        ----------\n",
    "        button : widget.Widget, optional\n",
    "            Optional & ignored; this is passed when invoked by a button.\n",
    "        \"\"\"\n",
    "        with self._render_hold_message(\"Retraining...\"):\n",
    "            if self.X_eval is not None:\n",
    "                X_eval = self.X_eval\n",
    "                y_eval = self.y_eval\n",
    "            else:\n",
    "                X_eval = X[is_labeled(self.y)]\n",
    "                y_eval = y[is_labeled(self.y)]\n",
    "\n",
    "            # Fit the model.\n",
    "            try:\n",
    "                self.model.fit(self.X.reshape(len(self.X), -1), self.y)\n",
    "            except ValueError as e:\n",
    "                if str(e).startswith(\"This solver needs samples of at least 2\"):\n",
    "                    self.model_performance.value = \"Not enough classes to retrain.\"\n",
    "                    return\n",
    "                else:\n",
    "                    raise\n",
    "\n",
    "            # Evaluate the model. By default, using cross validation. In sklearn this\n",
    "            # clones the model, so it's OK to do after the model fit.\n",
    "            try:\n",
    "                if self.eval_method is not None:\n",
    "                    performance = np.mean(\n",
    "                        self.eval_method(self.model, X_eval.reshape(len(X_eval), -1), y_eval)\n",
    "                    )\n",
    "                else:\n",
    "                    performance = np.mean(\n",
    "                        cross_val_score(\n",
    "                            self.model, X_eval.reshape(len(X_eval), -1), y_eval, cv=3, error_score=np.nan\n",
    "                        )\n",
    "                    )\n",
    "            except ValueError as e:\n",
    "                if \"n_splits=\" in str(e) \\\n",
    "                        or \"Found array with 0 sample(s)\" in str(e) \\\n",
    "                        or \"cannot reshape array of size 0\" in str(e):\n",
    "                    self.model_performance.value = \"Not enough labels to evaluate.\"\n",
    "                    return\n",
    "                else:\n",
    "                    raise\n",
    "\n",
    "            self.model_performance.value = f\"Score: {performance:.3f}\""
   ]
  },
  {
   "cell_type": "markdown",
   "metadata": {
    "pycharm": {
     "name": "#%% md\n"
    }
   },
   "source": [
    "## Create Dataset\n",
    "For this tutorial we use the dataset digit data set available through the sklearn package. The 8x8 images show handwritten digits from 0 to 9."
   ]
  },
  {
   "cell_type": "code",
   "execution_count": 11,
   "metadata": {},
   "outputs": [],
   "source": [
    "X = load_digits().data.reshape(-1, 8, 8)\n",
    "y = np.full(shape=len(X), fill_value=np.nan)"
   ]
  },
  {
   "cell_type": "markdown",
   "metadata": {
    "pycharm": {
     "name": "#%% md\n"
    }
   },
   "source": [
    "## Create And Start Annotation Process\n",
    "\n",
    "The `MLPClassified` of `sklearn` is used as classifier and `UncertaintySampling` as query strategy. To"
   ]
  },
  {
   "cell_type": "code",
   "execution_count": 12,
   "metadata": {},
   "outputs": [
    {
     "data": {
      "application/vnd.jupyter.widget-view+json": {
       "model_id": "81f93a67837e441794229f0e2e2c4219",
       "version_major": 2,
       "version_minor": 0
      },
      "text/plain": [
       "DataLabeler(children=(HBox(children=(HBox(children=(FloatProgress(value=0.0, description='Progress:', max=1.0)…"
      ]
     },
     "metadata": {},
     "output_type": "display_data"
    }
   ],
   "source": [
    "pipe = Pipeline([('scaler', StandardScaler()), ('MLP', MLPClassifier())])\n",
    "clf = SklearnClassifier(pipe, classes=range(10))\n",
    "\n",
    "qs = UncertaintySampling()\n",
    "\n",
    "labelling_widget = ClassLabeller(\n",
    "    options=list(range(1, 10)) + [0], image_size=(100, 100))\n",
    "\n",
    "data_labeler = DataLabeler(\n",
    "    X=X,\n",
    "    y=y,\n",
    "    model=clf,\n",
    "    query_strategy=qs,\n",
    "    labelling_widget=labelling_widget,\n",
    "    batch_size = 4,\n",
    "    n_cycles=50\n",
    ")\n",
    "data_labeler"
   ]
  }
 ],
 "metadata": {
  "kernelspec": {
   "display_name": "Python 3 (ipykernel)",
   "language": "python",
   "name": "python3"
  },
  "language_info": {
   "codemirror_mode": {
    "name": "ipython",
    "version": 3
   },
   "file_extension": ".py",
   "mimetype": "text/x-python",
   "name": "python",
   "nbconvert_exporter": "python",
   "pygments_lexer": "ipython3",
   "version": "3.9.7"
  },
  "vscode": {
   "interpreter": {
    "hash": "5f7f39fe3328ce4c80050dfed4bc981a4accefc504063131eb9a2382ee31ded5"
   }
  }
 },
 "nbformat": 4,
 "nbformat_minor": 1
}