{
 "cells": [
  {
   "cell_type": "code",
   "execution_count": null,
   "metadata": {},
   "outputs": [],
   "source": [
    "import sys\n",
    "sys.path.append('../..')"
   ]
  },
  {
   "cell_type": "code",
   "execution_count": null,
   "metadata": {},
   "outputs": [],
   "source": [
    "import numpy as np\n",
    "import sklearn\n",
    "import sklearn.datasets\n",
    "import matplotlib.pyplot as plt\n",
    "import copy\n",
    "from collections import deque\n",
    "from skactiveml.classifier import PWC\n",
    "from skactiveml.stream import RandomSampler, PeriodicSampler\n",
    "from skactiveml.stream import FixedUncertainty, VariableUncertainty, Split, PAL\n",
    "from skactiveml.stream.budget_manager import FixedBudget"
   ]
  },
  {
   "cell_type": "code",
   "execution_count": null,
   "metadata": {},
   "outputs": [],
   "source": [
    "random_state = np.random.RandomState(0)"
   ]
  },
  {
   "cell_type": "code",
   "execution_count": null,
   "metadata": {},
   "outputs": [],
   "source": [
    "init_train_length = 10\n",
    "stream_length = 10000\n",
    "training_size = 1000"
   ]
  },
  {
   "cell_type": "code",
   "execution_count": null,
   "metadata": {},
   "outputs": [],
   "source": [
    "def get_randomseed(random_state):\n",
    "    random_state.randint(2**31-1)"
   ]
  },
  {
   "cell_type": "code",
   "execution_count": null,
   "metadata": {},
   "outputs": [],
   "source": [
    "X, y = sklearn.datasets.make_classification(n_samples=init_train_length + stream_length, random_state=get_randomseed(random_state), shuffle=True)\n",
    "X_init = X[:init_train_length, :]\n",
    "y_init = y[:init_train_length]\n",
    "X_stream = X[init_train_length:, :]\n",
    "y_stream = y[init_train_length:]"
   ]
  },
  {
   "cell_type": "code",
   "execution_count": null,
   "metadata": {},
   "outputs": [],
   "source": [
    "clf = PWC()\n",
    "query_strategies = {\n",
    "    'RandomSampler': RandomSampler(random_state=get_randomseed(random_state)),\n",
    "    'PeriodicSampler': PeriodicSampler(random_state=get_randomseed(random_state)),\n",
    "    'FixedUncertainty': FixedUncertainty(clf=clf, random_state=get_randomseed(random_state)),\n",
    "    'VariableUncertainty': VariableUncertainty(clf=clf, random_state=get_randomseed(random_state)),\n",
    "    'Split': Split(clf=clf, random_state=get_randomseed(random_state)),\n",
    "    'PAL': PAL(clf=clf, random_state=get_randomseed(random_state))\n",
    "}"
   ]
  },
  {
   "cell_type": "code",
   "execution_count": null,
   "metadata": {},
   "outputs": [],
   "source": [
    "for query_strategy_name, query_strategy in query_strategies.items():\n",
    "    X_train = deque(maxlen=training_size)\n",
    "    X_train.extend(X_init)\n",
    "    y_train = deque(maxlen=training_size)\n",
    "    y_train.extend(y_init)\n",
    "    clf.fit(X_train, y_train)\n",
    "    correct_classifications = []\n",
    "    for t, (x_t, y_t) in enumerate(zip(X_stream, y_stream)):\n",
    "        correct_classifications.append(clf.predict(x_t.reshape([1, -1]))[0] == y_t)\n",
    "        sampled_indices = query_strategy.query(x_t.reshape([1, -1]), X=None, y=None)\n",
    "        if len(sampled_indices):\n",
    "            X_train.append(x_t)\n",
    "            y_train.append(y_t)\n",
    "            clf.fit(X_train, y_train)\n",
    "    print(np.sum(correct_classifications)/stream_length, query_strategy_name)\n",
    "    cumsum_correct_classifications = np.cumsum(correct_classifications)\n",
    "    smoothing_window_length = 100\n",
    "    plt.plot((cumsum_correct_classifications[smoothing_window_length:]-cumsum_correct_classifications[:-smoothing_window_length])/smoothing_window_length, label=query_strategy_name)\n",
    "plt.legend()"
   ]
  },
  {
   "cell_type": "code",
   "execution_count": null,
   "metadata": {},
   "outputs": [],
   "source": [
    "np.ones(5, dtype=int).dtype == float"
   ]
  },
  {
   "cell_type": "code",
   "execution_count": null,
   "metadata": {},
   "outputs": [],
   "source": []
  }
 ],
 "metadata": {
  "kernelspec": {
   "display_name": "Python 3",
   "language": "python",
   "name": "python3"
  },
  "language_info": {
   "codemirror_mode": {
    "name": "ipython",
    "version": 3
   },
   "file_extension": ".py",
   "mimetype": "text/x-python",
   "name": "python",
   "nbconvert_exporter": "python",
   "pygments_lexer": "ipython3",
   "version": "3.7.9-final"
  }
 },
 "nbformat": 4,
 "nbformat_minor": 4
}