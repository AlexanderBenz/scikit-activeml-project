{
 "cells": [
  {
   "cell_type": "markdown",
   "metadata": {},
   "source": [
    "# Stream active learning cycle\r\n",
    "This Notebook displays an example of an active learning clyce for the stream strategies implemented in this project. It also is used to better understand and display each strategie in comparison to one another for a given Data set.\r\n"
   ]
  },
  {
   "cell_type": "code",
   "execution_count": null,
   "metadata": {},
   "outputs": [],
   "source": [
    "import sys\r\n",
    "sys.path.append('../..')\r\n",
    "\r\n",
    "import numpy as np\r\n",
    "import sklearn\r\n",
    "import sklearn.datasets\r\n",
    "import matplotlib.pyplot as plt\r\n",
    "import copy\r\n",
    "from collections import deque\r\n",
    "from skactiveml.classifier import PWC\r\n",
    "from skactiveml.stream import RandomSampler, PeriodicSampler\r\n",
    "from skactiveml.stream import FixedUncertainty, VariableUncertainty, Split, PAL\r\n",
    "from skactiveml.stream.budget_manager import FixedBudget"
   ]
  },
  {
   "cell_type": "markdown",
   "metadata": {},
   "source": [
    "## Initialize stream Parameters\r\n",
    "Before the strategy process can start some variables need to be Initialized.\r\n",
    "Parameters that are always needed are a random_state outside the Notebook are\r\n",
    "random_state is used to fix the random seed, such that experiments are repeatable\r\n",
    " \r\n",
    "The parameters init_train_length ,stream_length and training_size are only needed in this Notebook to generate the Dataset and determine the stream length.\r\n",
    "init_train_length describes our training size that is used to learn the chosen classifier before starting the cycle.\r\n",
    "stream_length is used to define a data range in which the cycle should operate.\r\n",
    "training_size determines the queue size in which the acquired data will be saved in."
   ]
  },
  {
   "cell_type": "code",
   "execution_count": null,
   "metadata": {},
   "outputs": [],
   "source": [
    "random_state = np.random.RandomState(0)\r\n",
    "init_train_length = 10\r\n",
    "stream_length = 10000\r\n",
    "training_size = 1000"
   ]
  },
  {
   "cell_type": "markdown",
   "metadata": {},
   "source": [
    "## Initialize random seed\r\n",
    "This next method will be used to get the same random state for all strategies to Compare them in their decision making for the same instances."
   ]
  },
  {
   "cell_type": "code",
   "execution_count": null,
   "metadata": {},
   "outputs": [],
   "source": [
    "def get_randomseed(random_state):\n",
    "    random_state.randint(2**31-1)"
   ]
  },
  {
   "cell_type": "markdown",
   "metadata": {},
   "source": [
    "## Generate and Initialize Data set\r\n",
    "The next block Initializes all data needed for the query strategies. \r\n",
    "sklearn is used to generate a random dataset with our pre defined sample size and random_state\r\n",
    "X represents the Dataset that the active learning strategies have to work on.\r\n",
    "y represents the class of each Data in X.\r\n",
    "X_init and y_init are used to split the training data out of the steam data.\r\n",
    "X_steam and y_steam are the Data steam used in the learning cycle."
   ]
  },
  {
   "cell_type": "code",
   "execution_count": null,
   "metadata": {},
   "outputs": [],
   "source": [
    "X, y = sklearn.datasets.make_classification(n_samples=init_train_length + stream_length, random_state=get_randomseed(random_state), shuffle=True)\n",
    "X_init = X[:init_train_length, :]\n",
    "y_init = y[:init_train_length]\n",
    "X_stream = X[init_train_length:, :]\n",
    "y_stream = y[init_train_length:]"
   ]
  },
  {
   "cell_type": "markdown",
   "metadata": {},
   "source": [
    "## Initialize query strategies\r\n",
    "Next the query strategies will be saved in a dictionary and later on parsed through so each strategy will be used. Since some strategies need a classifier the classifier will also be initialized.\r\n",
    "clf_factory is a factory to generate the classifier for each strategie.\r\n",
    "query_strategies is the dictionary of all query strategies that should be used in the cycle."
   ]
  },
  {
   "cell_type": "code",
   "execution_count": null,
   "metadata": {},
   "outputs": [],
   "source": [
    "clf_factory = lambda: PWC(classes=[0,1], random_state=get_randomseed(random_state))\r\n",
    "query_strategies = {\r\n",
    "    'RandomSampler': RandomSampler(random_state=get_randomseed(random_state)),\r\n",
    "    'PeriodicSampler': PeriodicSampler(random_state=get_randomseed(random_state)),\r\n",
    "    'FixedUncertainty': FixedUncertainty(clf=clf_factory(), random_state=get_randomseed(random_state)),\r\n",
    "    'VariableUncertainty': VariableUncertainty(clf=clf_factory(), random_state=get_randomseed(random_state)),\r\n",
    "    'Split': Split(clf=clf_factory(), random_state=get_randomseed(random_state)),\r\n",
    "    'PAL': PAL(clf=clf_factory(), random_state=get_randomseed(random_state))\r\n",
    "}"
   ]
  },
  {
   "cell_type": "markdown",
   "metadata": {},
   "source": [
    "## Start the active learning cycle\r\n",
    "The query cycle will start by going through each strategy and learning the classifier with the training data. After the classifier is trained the stream will start. Each datapoint will be used as a candidate. The accuracy of the classifier will be determined and saved after each candidate. After each stream finished the complete accuracy will be displayed. Lastly a plot will be displayed that shows the accuracy over all data points in comparison to the other strategies. To display and decide the accuracy a new parameter called correct_classifications will be used. It compares the prediction of the classifier for the data to the actual class."
   ]
  },
  {
   "cell_type": "code",
   "execution_count": null,
   "metadata": {},
   "outputs": [],
   "source": [
    "for query_strategy_name, query_strategy in query_strategies.items():\r\n",
    "    clf = clf_factory()\r\n",
    "    X_train = deque(maxlen=training_size)\r\n",
    "    X_train.extend(X_init)\r\n",
    "    y_train = deque(maxlen=training_size)\r\n",
    "    y_train.extend(y_init)\r\n",
    "    clf.fit(X_train, y_train)\r\n",
    "    correct_classifications = []\r\n",
    "    for t, (x_t, y_t) in enumerate(zip(X_stream, y_stream)):\r\n",
    "        correct_classifications.append(clf.predict(x_t.reshape([1, -1]))[0] == y_t)\r\n",
    "        sampled_indices = query_strategy.query(x_t.reshape([1, -1]), X=X_train, y=y_train)\r\n",
    "        if len(sampled_indices):\r\n",
    "            X_train.append(x_t)\r\n",
    "            y_train.append(y_t)\r\n",
    "            clf.fit(X_train, y_train)\r\n",
    "    print(\"Query Strategy: \", query_strategy_name, \", Avg Accuracy: \", np.sum(correct_classifications)/stream_length)\r\n",
    "    cumsum_correct_classifications = np.cumsum(correct_classifications)\r\n",
    "    smoothing_window_length = 100\r\n",
    "    plt.plot((cumsum_correct_classifications[smoothing_window_length:]-cumsum_correct_classifications[:-smoothing_window_length])/smoothing_window_length, label=query_strategy_name)\r\n",
    "plt.legend()"
   ]
  }
 ],
 "metadata": {
  "interpreter": {
   "hash": "4b214dd2c9a44f12a1833edb4921179114be61850b6456c57ef3370ef440c7a3"
  },
  "kernelspec": {
   "display_name": "Python 3.8.5 64-bit ('scikit-activeml': conda)",
   "name": "python3"
  },
  "language_info": {
   "name": "python",
   "version": ""
  }
 },
 "nbformat": 4,
 "nbformat_minor": 4
}