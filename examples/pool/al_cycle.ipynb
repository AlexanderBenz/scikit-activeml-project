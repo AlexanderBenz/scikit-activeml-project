{
 "cells": [
  {
   "cell_type": "code",
   "execution_count": 1,
   "metadata": {},
   "outputs": [],
   "source": [
    "import sys\n",
    "sys.path.append('..')"
   ]
  },
  {
   "cell_type": "code",
   "execution_count": 2,
   "metadata": {},
   "outputs": [],
   "source": [
    "import numpy as np\n",
    "import pylab as plt\n",
    "\n",
    "import ipywidgets as widgets\n",
    "from ipywidgets import interact, interactive, fixed, interact_manual\n",
    "\n",
    "from sklearn.preprocessing import StandardScaler\n",
    "\n"
   ]
  },
  {
   "cell_type": "code",
   "execution_count": 3,
   "metadata": {},
   "outputs": [],
   "source": [
    "from skactiveml.classifier import IgnUnlabeledClassifier\n",
    "### CONSTANTS\n",
    "# the label for an unlabeled instances and the corresponding functions are defined here\n",
    "\n",
    "global UNL\n",
    "UNL = np.nan\n",
    "\n",
    "is_unlabeled = lambda y : IgnUnlabeledClassifier(None, UNL).is_unlabeled(y)\n",
    "is_labeled = IgnUnlabeledClassifier(None, UNL).is_labeled"
   ]
  },
  {
   "cell_type": "code",
   "execution_count": 4,
   "metadata": {},
   "outputs": [],
   "source": [
    "### DATASETS\n",
    "\n",
    "from sklearn.datasets import make_blobs\n",
    "\n",
    "def create_2d_data_set(seed=42):\n",
    "    X, y = make_blobs(n_samples=200, n_features=2, centers=12, cluster_std=1, random_state=seed)\n",
    "    y = y % 2\n",
    "    X = StandardScaler().fit_transform(X)\n",
    "    return X, y\n"
   ]
  },
  {
   "cell_type": "code",
   "execution_count": 5,
   "metadata": {},
   "outputs": [],
   "source": [
    "### CLASSIFIER\n",
    "from sklearn.naive_bayes import GaussianNB\n",
    "from sklearn.tree import DecisionTreeClassifier\n",
    "from sklearn.svm import SVC"
   ]
  },
  {
   "cell_type": "code",
   "execution_count": 6,
   "metadata": {},
   "outputs": [],
   "source": [
    "clf_dict = {'GaussianNaiveBayes' : IgnUnlabeledClassifier(GaussianNB(), UNL),\n",
    "            'DecisionTree' : IgnUnlabeledClassifier(DecisionTreeClassifier(), UNL),\n",
    "            'LinearSVC' : IgnUnlabeledClassifier(SVC(probability=True), UNL)}"
   ]
  },
  {
   "cell_type": "code",
   "execution_count": 7,
   "metadata": {},
   "outputs": [],
   "source": [
    "### SAMPLING STRATEGIES\n",
    "import skactiveml.pool as skacmlp\n",
    "\n",
    "query_strategies = {}\n",
    "for qs_name in skacmlp.__all__:\n",
    "    query_strategies[qs_name] = getattr(skacmlp, qs_name)"
   ]
  },
  {
   "cell_type": "code",
   "execution_count": 8,
   "metadata": {},
   "outputs": [],
   "source": [
    "### AL CYCLE\n",
    "\n",
    "def get_labels_with_selector(X, y, y_oracle, clf, selector, budget=30):  \n",
    "    \n",
    "    for b in range(budget):\n",
    "        unlabeled = np.where(is_unlabeled(y))[0]\n",
    "        #clf.fit(X, y)\n",
    "        unlabeled_id = selector.query(X[unlabeled])\n",
    "        sample_id = unlabeled[unlabeled_id]\n",
    "        y[sample_id] = y_oracle[sample_id]\n",
    "\n",
    "    return y"
   ]
  },
  {
   "cell_type": "code",
   "execution_count": 9,
   "metadata": {},
   "outputs": [
    {
     "name": "stdout",
     "output_type": "stream",
     "text": [
      "[ 1.  0. nan nan nan nan nan nan  1. nan nan nan nan nan nan nan nan nan\n",
      " nan nan nan nan nan nan nan nan nan nan nan nan nan nan  0.  1.  1. nan\n",
      " nan nan nan nan nan nan nan  1. nan nan nan nan nan nan nan nan nan nan\n",
      " nan nan nan  0. nan nan nan nan nan nan nan nan nan nan nan nan nan nan\n",
      " nan nan nan nan nan nan  1. nan nan nan nan  0. nan nan  1.  0. nan nan\n",
      " nan nan nan nan nan nan nan nan nan nan nan nan nan nan nan nan nan nan\n",
      " nan  1. nan nan nan nan  0. nan nan nan nan nan nan nan nan  1.  0. nan\n",
      "  0. nan  1. nan nan  0. nan  0.  0. nan nan nan nan nan nan  1. nan nan\n",
      "  1. nan nan  0. nan nan  0. nan nan nan nan nan  0. nan nan  1. nan  1.\n",
      " nan nan nan nan nan nan nan nan nan nan nan nan nan nan nan nan nan  1.\n",
      " nan nan nan nan nan nan nan nan nan nan nan  0. nan nan nan nan nan nan\n",
      " nan nan]\n",
      "[ True  True False False False False False False  True False False False\n",
      " False False False False False False False False False False False False\n",
      " False False False False False False False False  True  True  True False\n",
      " False False False False False False False  True False False False False\n",
      " False False False False False False False False False  True False False\n",
      " False False False False False False False False False False False False\n",
      " False False False False False False  True False False False False  True\n",
      " False False  True  True False False False False False False False False\n",
      " False False False False False False False False False False False False\n",
      " False  True False False False False  True False False False False False\n",
      " False False False  True  True False  True False  True False False  True\n",
      " False  True  True False False False False False False  True False False\n",
      "  True False False  True False False  True False False False False False\n",
      "  True False False  True False  True False False False False False False\n",
      " False False False False False False False False False False False  True\n",
      " False False False False False False False False False False False  True\n",
      " False False False False False False False False]\n"
     ]
    }
   ],
   "source": [
    "# minimal example\n",
    "\n",
    "clf = IgnUnlabeledClassifier(GaussianNB(), UNL)\n",
    "\n",
    "selector = query_strategies['RandomSampler']()\n",
    "\n",
    "X,y_oracle = create_2d_data_set()\n",
    "y = np.full(y_oracle.shape, UNL)\n",
    "\n",
    "y = get_labels_with_selector(X, y, y_oracle, clf, selector, budget=30)\n",
    "\n",
    "print(y)\n",
    "print(is_labeled(y))"
   ]
  },
  {
   "cell_type": "code",
   "execution_count": 10,
   "metadata": {},
   "outputs": [],
   "source": [
    "def plot_scores_2d(X, y, y_oracle, clf, selector, res=21):\n",
    "    # create mesh for plotting\n",
    "    x_1_vec = np.linspace(min(X[:, 0]), max(X[:, 0]), res)\n",
    "    x_2_vec = np.linspace(min(X[:, 1]), max(X[:, 1]), res)\n",
    "    X_1_mesh, X_2_mesh = np.meshgrid(x_1_vec, x_2_vec)\n",
    "    X_mesh = np.array([X_1_mesh.reshape(-1), X_2_mesh.reshape(-1)]).T\n",
    "    \n",
    "    # compute gains\n",
    "    clf.fit(X, y)\n",
    "    posteriors = clf.predict_proba(X_mesh)[:,0].reshape(X_1_mesh.shape)\n",
    "    \n",
    "    # compute gains\n",
    "    _, scores = selector.query(X_mesh, return_utilities=True)\n",
    "    scores = scores.reshape(X_1_mesh.shape)\n",
    "    \n",
    "    # get indizes for plotting\n",
    "    labeled_indices = np.where(is_labeled(y))[0]\n",
    "    unlabeled_indices = np.where(is_unlabeled(y))[0]\n",
    "    \n",
    "    # setup figure\n",
    "    fig = plt.figure(figsize=(10, 8))\n",
    "    plt.xlim(min(X[:, 0]), max(X[:, 0]))\n",
    "    plt.ylim(min(X[:, 1]), max(X[:, 1]))\n",
    "    plt.xlabel(r'$x_1$')\n",
    "    plt.ylabel(r'$x_2$')\n",
    "    cmap = plt.get_cmap('coolwarm')\n",
    "    \n",
    "    plt.scatter(X[labeled_indices, 0], X[labeled_indices, 1], c=[[.2, .2, .2]], s=90, marker='o', zorder=3.8)\n",
    "    plt.scatter(X[labeled_indices, 0], X[labeled_indices, 1], c=[[.8, .8, .8]], s=60, marker='o', zorder=4)\n",
    "    for cl, marker in zip([0,1],['D','s']):\n",
    "        cl_labeled_idx = labeled_indices[y[labeled_indices] == cl]\n",
    "        cl_unlabeled_idx = unlabeled_indices[y_oracle[unlabeled_indices]==cl]\n",
    "        plt.scatter(X[cl_labeled_idx, 0], X[cl_labeled_idx, 1], c=np.ones(len(cl_labeled_idx))*cl, marker=marker, vmin=-0.2, vmax=1.2, cmap='coolwarm', s=20, zorder=5)\n",
    "        plt.scatter(X[cl_unlabeled_idx, 0], X[cl_unlabeled_idx, 1], c=np.ones(len(cl_unlabeled_idx)) * cl, marker=marker, vmin=-0.2, vmax=1.2, cmap='coolwarm', s=20, zorder=3)\n",
    "        plt.scatter(X[cl_unlabeled_idx, 0], X[cl_unlabeled_idx, 1], c='k', marker=marker, vmin=-0.1, vmax=1.1, cmap='coolwarm', s=30, zorder=2.8)\n",
    "    \n",
    "    CS = plt.contourf(X_1_mesh, X_2_mesh, scores, cmap='Greens', alpha=.75)\n",
    "    CS = plt.contour(X_1_mesh, X_2_mesh, posteriors, [.5], colors='k', linewidths=[2], zorder=1)\n",
    "    CS = plt.contour(X_1_mesh, X_2_mesh, posteriors, [.25,.75], cmap='coolwarm_r', linewidths=[2,2], \n",
    "                     zorder=1, linestyles='--', alpha=.9, vmin=.2, vmax=.8)\n",
    "    \n",
    "    fig.tight_layout()\n",
    "    plt.show()\n",
    "    \n",
    "    return fig\n",
    "    "
   ]
  },
  {
   "cell_type": "code",
   "execution_count": 11,
   "metadata": {},
   "outputs": [],
   "source": [
    "def plot_gain_data_set_2d(clf, al, usefulness, budget, seed=43, n_samples=250):\n",
    "    \n",
    "    # create data set\n",
    "    X, y_oracle = create_2d_data_set(seed = seed)\n",
    "    X = StandardScaler().fit_transform(X)\n",
    "    y = np.full(y_oracle.shape, UNL)\n",
    "    \n",
    "    # classifier\n",
    "    clf = clf_dict[clf]\n",
    "        \n",
    "    # AL cycle\n",
    "    y = get_labels_with_selector(X, y, y_oracle, clf, query_strategies[al](), budget=budget)\n",
    "    \n",
    "    # plot gains and decision boundary\n",
    "    fig = plot_scores_2d(X, y, y_oracle, clf, query_strategies[usefulness]())"
   ]
  },
  {
   "cell_type": "code",
   "execution_count": 12,
   "metadata": {},
   "outputs": [],
   "source": [
    "\n",
    "budget_slider = widgets.IntSlider(value=15, min=1, max=250, step=1)\n",
    "clf_slider = widgets.Dropdown(options=clf_dict.keys())\n",
    "al_slider = widgets.Dropdown(options=query_strategies.keys())\n",
    "usefulness_slider = widgets.Dropdown(options=query_strategies.keys())"
   ]
  },
  {
   "cell_type": "code",
   "execution_count": 13,
   "metadata": {},
   "outputs": [
    {
     "data": {
      "text/plain": "interactive(children=(Dropdown(description='clf', options=('GaussianNaiveBayes', 'DecisionTree', 'LinearSVC'),…",
      "application/vnd.jupyter.widget-view+json": {
       "version_major": 2,
       "version_minor": 0,
       "model_id": "af94180d5c6149f8bca415382a0799c6"
      }
     },
     "metadata": {},
     "output_type": "display_data"
    },
    {
     "data": {
      "text/plain": "<function __main__.plot_gain_data_set_2d(clf, al, usefulness, budget, seed=43, n_samples=250)>"
     },
     "execution_count": 13,
     "metadata": {},
     "output_type": "execute_result"
    }
   ],
   "source": [
    "interact(plot_gain_data_set_2d, clf=clf_slider,\n",
    "         al=al_slider, usefulness=usefulness_slider, budget=budget_slider)\n"
   ]
  },
  {
   "cell_type": "code",
   "execution_count": 13,
   "metadata": {},
   "outputs": [],
   "source": [
    "\n",
    "\n",
    "\n",
    "\n",
    "\n",
    "\n",
    "\n",
    "\n",
    "\n",
    "\n",
    "\n",
    "\n",
    "\n",
    "\n",
    "\n",
    "\n",
    "\n",
    "\n",
    "\n",
    "\n",
    "\n",
    "\n",
    "\n",
    "\n",
    "\n",
    "\n",
    "\n",
    "\n",
    "\n",
    "\n",
    "\n",
    "\n",
    "\n",
    "\n",
    "\n",
    "\n",
    "\n",
    "\n",
    "\n",
    "\n",
    "\n",
    "\n",
    "\n",
    "\n"
   ]
  }
 ],
 "metadata": {
  "kernelspec": {
   "display_name": "Python 3",
   "language": "python",
   "name": "python3"
  },
  "language_info": {
   "codemirror_mode": {
    "name": "ipython",
    "version": 3
   },
   "file_extension": ".py",
   "mimetype": "text/x-python",
   "name": "python",
   "nbconvert_exporter": "python",
   "pygments_lexer": "ipython3",
   "version": "3.8.5"
  }
 },
 "nbformat": 4,
 "nbformat_minor": 2
}