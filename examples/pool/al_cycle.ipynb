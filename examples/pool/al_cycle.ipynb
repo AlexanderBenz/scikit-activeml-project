{
 "cells": [
  {
   "cell_type": "markdown",
   "metadata": {},
   "source": [
    "# Scikit-Active-Machine-Learning: Overview of Pool-based Active Learning"
   ]
  },
  {
   "cell_type": "code",
   "execution_count": null,
   "metadata": {},
   "outputs": [],
   "source": [
    "import sys\n",
    "sys.path.append('../..')\n",
    "\n",
    "import numpy as np\n",
    "import pylab as plt\n",
    "import matplotlib.animation as animation\n",
    "import ipywidgets as widgets\n",
    "import skactiveml.pool as skacmlp\n",
    "import warnings\n",
    "warnings.filterwarnings('ignore')\n",
    "\n",
    "from ipywidgets import interact, interactive, fixed, interact_manual\n",
    "from IPython.display import HTML\n",
    "from skactiveml.utils import is_labeled, is_unlabeled, MISSING_LABEL, call_func\n",
    "\n",
    "# classifiers\n",
    "from sklearn.naive_bayes import GaussianNB\n",
    "from sklearn.tree import DecisionTreeClassifier\n",
    "from sklearn.svm import SVC\n",
    "from sklearn.neighbors import KNeighborsClassifier\n",
    "from sklearn.neural_network import MLPClassifier\n",
    "from skactiveml.classifier import PWC, SklearnClassifier, CMM\n",
    "\n",
    "# data sets\n",
    "from sklearn.datasets import make_blobs\n",
    "from sklearn.preprocessing import StandardScaler"
   ]
  },
  {
   "cell_type": "markdown",
   "metadata": {},
   "source": [
    "## Data Sets"
   ]
  },
  {
   "cell_type": "code",
   "execution_count": null,
   "metadata": {},
   "outputs": [],
   "source": [
    "def create_2d_data_set(seed=42):\n",
    "    X, y = make_blobs(n_samples=200, n_features=2, centers=12, cluster_std=1, random_state=seed)\n",
    "    y = y % 2\n",
    "    X = StandardScaler().fit_transform(X)\n",
    "    return X, y"
   ]
  },
  {
   "cell_type": "markdown",
   "metadata": {},
   "source": [
    "## Classifiers"
   ]
  },
  {
   "cell_type": "code",
   "execution_count": null,
   "metadata": {},
   "outputs": [],
   "source": [
    "clf_dict = {'PWC' : PWC(classes=[0,1], missing_label=MISSING_LABEL),\n",
    "            'CMM' : CMM(classes=[0, 1], missing_label=MISSING_LABEL),\n",
    "            'GaussianNaiveBayes' : SklearnClassifier(GaussianNB(), classes=[0, 1], missing_label=MISSING_LABEL),\n",
    "            'DecisionTree' : SklearnClassifier(DecisionTreeClassifier(), classes=[0, 1], missing_label=MISSING_LABEL),\n",
    "            'KNN' : SklearnClassifier(KNeighborsClassifier(), classes=[0, 1], missing_label=MISSING_LABEL),\n",
    "            'SVC' : SklearnClassifier(SVC(probability=True), classes=[0, 1], missing_label=MISSING_LABEL),\n",
    "            }\n",
    "\n",
    "perf_est_dict = {'PWC' : PWC}"
   ]
  },
  {
   "cell_type": "markdown",
   "metadata": {},
   "source": [
    "## Query Strategies"
   ]
  },
  {
   "cell_type": "code",
   "execution_count": null,
   "metadata": {},
   "outputs": [],
   "source": [
    "query_strategies = {}\n",
    "for qs_name in skacmlp.__all__:\n",
    "    query_strategies[qs_name] = getattr(skacmlp, qs_name)\n",
    "print(query_strategies.keys())"
   ]
  },
  {
   "cell_type": "markdown",
   "metadata": {},
   "source": [
    "## AL Cycle"
   ]
  },
  {
   "cell_type": "code",
   "execution_count": null,
   "metadata": {},
   "outputs": [],
   "source": [
    "def get_labels_with_selector(X, y, y_oracle, clf, selector, budget=30):  \n",
    "    y_list = []\n",
    "    \n",
    "    for b in range(budget):\n",
    "        unlabeled = np.where (is_unlabeled(y))[0]\n",
    "        clf.fit(X, y)\n",
    "        unlabeled_id = call_func(selector.query, X_cand=X[unlabeled], X=X, y=y, X_eval=X)\n",
    "        sample_id = unlabeled[unlabeled_id]\n",
    "        y[sample_id] = y_oracle[sample_id]\n",
    "        y_list.append(y.copy())\n",
    "\n",
    "    return np.array(y_list)"
   ]
  },
  {
   "cell_type": "markdown",
   "metadata": {},
   "source": [
    "## Plotting Functions"
   ]
  },
  {
   "cell_type": "code",
   "execution_count": null,
   "metadata": {},
   "outputs": [],
   "source": [
    "def plot_scores_2d(X, y, y_oracle, X_1_mesh, X_2_mesh, X_mesh, clf, selector, ax):\n",
    "    # compute gains\n",
    "    clf.fit(X, y)\n",
    "    posteriors = clf.predict_proba(X_mesh)[:,0].reshape(X_1_mesh.shape)\n",
    "    \n",
    "    # compute gains\n",
    "    _, scores = call_func(selector.query, X_cand=X_mesh, X=X, y=y, X_eval=X, return_utilities=True)\n",
    "    scores = scores.reshape(X_1_mesh.shape)\n",
    "    \n",
    "    # get indizes for plotting\n",
    "    labeled_indices = np.where(is_labeled(y))[0]\n",
    "    unlabeled_indices = np.where(is_unlabeled(y))[0]\n",
    "    \n",
    "    out = []\n",
    "    \n",
    "    scatter_1 = ax.scatter(X[labeled_indices, 0], X[labeled_indices, 1], c=[[.2, .2, .2]], s=90, marker='o', zorder=3.8)\n",
    "    scatter_2 = ax.scatter(X[labeled_indices, 0], X[labeled_indices, 1], c=[[.8, .8, .8]], s=60, marker='o', zorder=4)\n",
    "    for cl, marker in zip([0,1],['D','s']):\n",
    "        cl_labeled_idx = labeled_indices[y[labeled_indices] == cl]\n",
    "        cl_unlabeled_idx = unlabeled_indices[y_oracle[unlabeled_indices]==cl]\n",
    "        ax.scatter(X[cl_labeled_idx, 0], X[cl_labeled_idx, 1], c=np.ones(len(cl_labeled_idx))*cl, marker=marker, vmin=-0.2, vmax=1.2, cmap='coolwarm', s=20, zorder=5)\n",
    "        ax.scatter(X[cl_unlabeled_idx, 0], X[cl_unlabeled_idx, 1], c=np.ones(len(cl_unlabeled_idx)) * cl, marker=marker, vmin=-0.2, vmax=1.2, cmap='coolwarm', s=20, zorder=3)\n",
    "        ax.scatter(X[cl_unlabeled_idx, 0], X[cl_unlabeled_idx, 1], c='k', marker=marker, vmin=-0.1, vmax=1.1, cmap='coolwarm', s=30, zorder=2.8)\n",
    "    \n",
    "    cs_0 = ax.contourf(X_1_mesh, X_2_mesh, scores, cmap='Greens', alpha=.75).collections\n",
    "    cs_1 = ax.contour(X_1_mesh, X_2_mesh, posteriors, [.5], colors='k', linewidths=[2], zorder=1).collections\n",
    "    cs_2 = ax.contour(X_1_mesh, X_2_mesh, posteriors, [.25,.75], cmap='coolwarm_r', linewidths=[2,2], \n",
    "                      zorder=1, linestyles='--', alpha=.9, vmin=.2, vmax=.8).collections\n",
    "    \n",
    "    return cs_0 + cs_1 + cs_2 + [scatter_1] + [scatter_2]\n",
    "\n",
    "def plot_gain_data_set_2d(al, clf, usefulness, perf_est, budget=50, fps=2, seed=43, n_samples=250):\n",
    "    \n",
    "    # Create data set.\n",
    "    X, y_oracle = create_2d_data_set(seed = seed)\n",
    "    X = StandardScaler().fit_transform(X)\n",
    "    y = np.full(y_oracle.shape, MISSING_LABEL)\n",
    "    classes = np.unique(y_oracle)\n",
    "\n",
    "    # Create mesh for plotting.\n",
    "    x_1_vec = np.linspace(min(X[:, 0]), max(X[:, 0]), 21)\n",
    "    x_2_vec = np.linspace(min(X[:, 1]), max(X[:, 1]), 21)\n",
    "    X_1_mesh, X_2_mesh = np.meshgrid(x_1_vec, x_2_vec)\n",
    "    X_mesh = np.array([X_1_mesh.reshape(-1), X_2_mesh.reshape(-1)]).T\n",
    "        \n",
    "    # Create classifier.\n",
    "    clf_name = clf\n",
    "    perf_est_name = perf_est\n",
    "    clf = clf_dict[clf]\n",
    "    perf_est = call_func(perf_est_dict[perf_est], n_classes=len(classes))\n",
    "    \n",
    "    # Create utiltiy strategy.\n",
    "    ut_qs = call_func(query_strategies[usefulness], clf=clf, perf_est=perf_est, model=clf, classes=classes, random_state=seed)\n",
    "        \n",
    "    # Execute AL cycle.\n",
    "    al_qs = call_func(query_strategies[al], clf=clf, perf_est=perf_est, model=clf, classes=classes, random_state=seed)\n",
    "    Y = get_labels_with_selector(X, y, y_oracle, clf, al_qs, budget=budget)\n",
    "    \n",
    "    # Setup figure for plotting.\n",
    "    fig = plt.figure(figsize=(10, 8))\n",
    "    ax = fig.add_subplot(111)\n",
    "    ax.set_title(f\"AL={al}, Classifier={clf_name}, \\n Usefulness={usefulness}, Performan Estimator={perf_est_name}\")\n",
    "    ax.set_xlim(min(X[:, 0]), max(X[:, 0]))\n",
    "    ax.set_ylim(min(X[:, 1]), max(X[:, 1]))\n",
    "    ax.set_xlabel(r'$x_1$')\n",
    "    ax.set_ylabel(r'$x_2$')\n",
    "    \n",
    "    ims = []\n",
    "    for i in range(len(Y)):\n",
    "        img = plot_scores_2d(X, Y[i], y_oracle, X_1_mesh, X_2_mesh, X_mesh, clf, ut_qs, ax)\n",
    "        ims.append(img)\n",
    "    ani = animation.ArtistAnimation(fig, ims, blit=False, interval=1000/fps, repeat_delay=1)\n",
    "    plt.close()\n",
    "    return HTML(ani.to_html5_video())"
   ]
  },
  {
   "cell_type": "markdown",
   "metadata": {},
   "source": [
    "## Animation of AL Cycle"
   ]
  },
  {
   "cell_type": "code",
   "execution_count": null,
   "metadata": {},
   "outputs": [],
   "source": [
    "budget_slider = widgets.IntSlider(value=15, min=1, max=200, step=1)\n",
    "fps_slider = widgets.FloatSlider(value=1, min=0.1, max=15, step=0.1)\n",
    "clf_slider = widgets.Dropdown(options=clf_dict.keys())\n",
    "al_slider = widgets.Dropdown(options=query_strategies.keys())\n",
    "usefulness_slider = widgets.Dropdown(options=query_strategies.keys())\n",
    "perf_slider = widgets.Dropdown(options=perf_est_dict.keys())\n",
    "interact(plot_gain_data_set_2d, budget=budget_slider, fps=fps_slider, clf=clf_slider,\n",
    "         al=al_slider, usefulness=usefulness_slider, perf_est=perf_slider)"
   ]
  }
 ],
 "metadata": {
  "kernelspec": {
   "display_name": "Python 3",
   "language": "python",
   "name": "python3"
  },
  "language_info": {
   "codemirror_mode": {
    "name": "ipython",
    "version": 3
   },
   "file_extension": ".py",
   "mimetype": "text/x-python",
   "name": "python",
   "nbconvert_exporter": "python",
   "pygments_lexer": "ipython3",
   "version": "3.7.6"
  }
 },
 "nbformat": 4,
 "nbformat_minor": 4
}
