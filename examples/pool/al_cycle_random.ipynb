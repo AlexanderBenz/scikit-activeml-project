{
 "cells": [
  {
   "cell_type": "code",
   "execution_count": 1,
   "metadata": {},
   "outputs": [],
   "source": [
    "import sys\n",
    "sys.path.append('../..')"
   ]
  },
  {
   "cell_type": "code",
   "execution_count": 2,
   "metadata": {},
   "outputs": [],
   "source": [
    "from skactiveml.pool import RandomSampler"
   ]
  },
  {
   "cell_type": "code",
   "execution_count": 27,
   "metadata": {},
   "outputs": [
    {
     "data": {
      "text/plain": [
       "array([1, 0])"
      ]
     },
     "execution_count": 27,
     "metadata": {},
     "output_type": "execute_result"
    }
   ],
   "source": [
    "RandomSampler(batch_size=2, random_state=1).query([[1],[1],[1],[1],[1]],\n",
    "                                                  return_utilities=False)"
   ]
  },
  {
   "cell_type": "code",
   "execution_count": 32,
   "metadata": {},
   "outputs": [
    {
     "ename": "SyntaxError",
     "evalue": "trailing comma not allowed without surrounding parentheses (2995197618.py, line 11)",
     "output_type": "error",
     "traceback": [
      "\u001B[0;36m  File \u001B[0;32m\"/tmp/ipykernel_260825/2995197618.py\"\u001B[0;36m, line \u001B[0;32m11\u001B[0m\n\u001B[0;31m    McPAL, RandomSampler, EpistemicUncertainty, FourDS,\u001B[0m\n\u001B[0m                                                       ^\u001B[0m\n\u001B[0;31mSyntaxError\u001B[0m\u001B[0;31m:\u001B[0m trailing comma not allowed without surrounding parentheses\n"
     ]
    }
   ],
   "source": [
    "import numpy as np\n",
    "\n",
    "from time import time\n",
    "from sklearn.linear_model import LogisticRegression\n",
    "from sklearn.neural_network import MLPClassifier\n",
    "from sklearn.svm import SVC\n",
    "from sklearn.gaussian_process import GaussianProcessClassifier\n",
    "from sklearn.datasets import make_blobs\n",
    "from sklearn.preprocessing import StandardScaler\n",
    "from skactiveml.pool import UncertaintySampling, ExpectedErrorReduction, ALCE, \\\n",
    "    McPAL, RandomSampler, EpistemicUncertainty, FourDS,\n",
    "from skactiveml.utils import unlabeled_indices, MISSING_LABEL\n",
    "from skactiveml.classifier import SklearnClassifier\n",
    "\n",
    "# Generate data set.\n",
    "X, y_true = make_blobs(random_state=0, centers=5, shuffle=True)\n",
    "X = StandardScaler().fit_transform(X)\n",
    "y = np.full(shape=y_true.shape, fill_value=-1)\n",
    "y[:20] = y_true[:20]\n",
    "\n",
    "# Create classifier and query strategy.\n",
    "clf = SklearnClassifier(MLPClassifier(random_state=0, max_iter=10000),\n",
    "                        classes=np.unique(y_true), missing_label=-1,\n",
    "                        random_state=0)\n",
    "qs = UncertaintySampling(random_state=0)\n",
    "\n",
    "# Execute active learning cycle.\n",
    "n_cycles = 10\n",
    "for c in range(n_cycles):\n",
    "     clf.fit(X, y)\n",
    "     unlbld_idx = unlabeled_indices(y, missing_label=-1)\n",
    "     X_cand = X[unlbld_idx]\n",
    "     t = time()\n",
    "     query_idx = unlbld_idx[qs.query(X_cand=X_cand, clf=clf, batch_size=5)]\n",
    "     print(time()-t)\n",
    "     y[query_idx] = y_true[query_idx]\n",
    "print(f'Accuracy: {clf.score(X, y_true)}')\n"
   ]
  },
  {
   "cell_type": "code",
   "execution_count": 38,
   "metadata": {
    "pycharm": {
     "name": "#%%\n"
    }
   },
   "outputs": [
    {
     "name": "stdout",
     "output_type": "stream",
     "text": [
      "0.005366802215576172\n"
     ]
    },
    {
     "name": "stderr",
     "output_type": "stream",
     "text": [
      "/home/marek/Projects/GitHub/scikit-activeml/skactiveml/classifier/_wrapper.py:259: UserWarning: The 'base_estimator' could not be fitted because of 'num_samples should be a positive integer value, but got num_samples=0'. Therefore, the class labels of the samples are counted and will be used to make predictions. The class label distribution is `_label_counts=[0, 0]`.\n",
      "  warnings.warn(\"The 'base_estimator' could not be fitted because of\"\n"
     ]
    },
    {
     "name": "stdout",
     "output_type": "stream",
     "text": [
      "0.005888223648071289\n",
      "0.003514528274536133\n",
      "0.0031244754791259766\n",
      "0.0032498836517333984\n",
      "0.006188869476318359\n",
      "0.0041658878326416016\n",
      "0.003576993942260742\n",
      "0.0053863525390625\n",
      "0.0036351680755615234\n",
      "0.005046844482421875\n",
      "0.0064313411712646484\n",
      "0.004711627960205078\n",
      "0.0038118362426757812\n",
      "0.00393986701965332\n",
      "0.004993438720703125\n",
      "0.005129575729370117\n",
      "0.003937721252441406\n",
      "0.004674196243286133\n",
      "0.004380941390991211\n",
      "0.004061460494995117\n",
      "0.0040204524993896484\n",
      "0.0037920475006103516\n",
      "0.004462718963623047\n",
      "0.0037102699279785156\n",
      "Accuracy: 0.79\n"
     ]
    }
   ],
   "source": [
    "from torch import nn\n",
    "from skorch import NeuralNetClassifier\n",
    "from skactiveml.classifier import PWC\n",
    "\n",
    "# Generate data set.\n",
    "X, y_true = make_blobs(random_state=0, centers=5, shuffle=True)\n",
    "y_true %= 2\n",
    "X = StandardScaler().fit_transform(X)\n",
    "y = np.full(shape=y_true.shape, fill_value=-1)\n",
    "#y[:50] = y_true[:50]\n",
    "\n",
    "X = X.astype(np.float32)\n",
    "y = y.astype(np.int64)\n",
    "y_true = y_true.astype(np.int64)\n",
    "\n",
    "class MyModule(nn.Module):\n",
    "    def __init__(self, num_units=100, nonlin=nn.ReLU()):\n",
    "        super(MyModule, self).__init__()\n",
    "\n",
    "        self.dense0 = nn.Linear(2, num_units)\n",
    "        self.nonlin = nonlin\n",
    "        self.dense1 = nn.Linear(num_units, num_units)\n",
    "        self.output = nn.Linear(num_units, 2)\n",
    "        self.softmax = nn.Softmax(dim=-1)\n",
    "\n",
    "    def forward(self, X, **kwargs):\n",
    "        X = self.nonlin(self.dense0(X))\n",
    "        X = self.nonlin(self.dense1(X))\n",
    "        X = self.softmax(self.output(X))\n",
    "        return X\n",
    "\n",
    "\n",
    "net = NeuralNetClassifier(\n",
    "    MyModule,\n",
    "    max_epochs=50,\n",
    "    lr=0.1,\n",
    "    # Shuffle training data on each epoch\n",
    "    iterator_train__shuffle=True,\n",
    "    verbose=False,\n",
    "    train_split=False\n",
    ")\n",
    "\n",
    "pwc = PWC(class_prior=0, classes=np.unique(y_true), missing_label=-1)\n",
    "clf = SklearnClassifier(net, classes=np.unique(y_true), missing_label=-1,\n",
    "                        random_state=0)\n",
    "qs = UncertaintySampling(random_state=0)\n",
    "\n",
    "# Execute active learning cycle.\n",
    "n_cycles = 25\n",
    "for c in range(n_cycles):\n",
    "     clf.fit(X, y)\n",
    "     unlbld_idx = unlabeled_indices(y, missing_label=-1)\n",
    "     X_cand = X[unlbld_idx]\n",
    "     t = time()\n",
    "     query_idx = unlbld_idx[qs.query(X_cand=X_cand, clf=pwc, X=X, y=y,\n",
    "                                     batch_size=1)]\n",
    "     print(time()-t)\n",
    "     y[query_idx] = y_true[query_idx]\n",
    "print(f'Accuracy: {clf.fit(X, y).score(X, y_true)}')\n"
   ]
  },
  {
   "cell_type": "code",
   "execution_count": 14,
   "metadata": {
    "pycharm": {
     "name": "#%%\n"
    }
   },
   "outputs": [
    {
     "name": "stdout",
     "output_type": "stream",
     "text": [
      "float32\n"
     ]
    }
   ],
   "source": [
    "from sklearn.utils.validation import check_array\n",
    "\n",
    "X, y_true = make_blobs(random_state=0, centers=5, shuffle=True)\n",
    "y_true %= 2\n",
    "X = StandardScaler().fit_transform(X)\n",
    "y = np.full(shape=y_true.shape, fill_value=-1)\n",
    "y[:50] = y_true[:50]\n",
    "\n",
    "X = X.astype(np.float32)\n",
    "y = y.astype(np.int64)\n",
    "y_true = y_true.astype(np.int64)\n",
    "\n",
    "X = check_array(X)\n",
    "print(X.dtype)"
   ]
  },
  {
   "cell_type": "code",
   "execution_count": 3,
   "metadata": {
    "pycharm": {
     "name": "#%%\n"
    }
   },
   "outputs": [
    {
     "name": "stdout",
     "output_type": "stream",
     "text": [
      "bandwidth: 0.2630154484476343\n",
      "0.0\n"
     ]
    },
    {
     "data": {
      "image/png": "[encoded data removed]",
      "text/plain": [
       "<Figure size 432x288 with 1 Axes>"
      ]
     },
     "metadata": {
      "needs_background": "light"
     },
     "output_type": "display_data"
    }
   ],
   "source": [
    "import numpy as np\n",
    "from sklearn.metrics.pairwise import pairwise_kernels, KERNEL_PARAMS\n",
    "from sklearn.utils import check_array\n",
    "from sklearn.utils.validation import check_is_fitted, check_scalar\n",
    "from sklearn.preprocessing import StandardScaler\n",
    "from sklearn.datasets import make_friedman1, make_regression\n",
    "import matplotlib.pyplot as plt\n",
    "from scipy.stats import t\n",
    "\n",
    "from skactiveml.utils import MISSING_LABEL\n",
    "\n",
    "\n",
    "class PWR:\n",
    "    METRICS = list(KERNEL_PARAMS.keys()) + ['precomputed']\n",
    "\n",
    "    def __init__(self, n_neighbors=None, metric='rbf', metric_dict=None):\n",
    "        self.metric = metric\n",
    "        self.n_neighbors = n_neighbors\n",
    "        self.metric_dict = {} if metric_dict is None else metric_dict\n",
    "\n",
    "    def fit(self, X, y):\n",
    "        self.X_ = X.copy()\n",
    "        self.y_ = y.copy()\n",
    "\n",
    "        return self\n",
    "\n",
    "    def predict_freq(self, X):\n",
    "        K = pairwise_kernels(X, self.X_, metric=self.metric,\n",
    "                             **self.metric_dict)\n",
    "\n",
    "\n",
    "        # maximum likelihood\n",
    "        N = np.sum(K, axis=1)\n",
    "        mu_ml = K @ self.y_ / N\n",
    "        sigma_ml = np.sqrt((K @ self.y_**2 / N) - mu_ml**2)\n",
    "\n",
    "        # normal\n",
    "        mu_0 = 0\n",
    "        sigma_0 = 1\n",
    "        mu_N = ((sigma_ml**2) / (N * sigma_0**2 + sigma_ml**2)) * mu_0 + \\\n",
    "               ((N*sigma_0**2)/(N*sigma_0**2 + sigma_ml**2)) * mu_ml\n",
    "        sigma_N = ((1 / (sigma_0**2)) + (N/(sigma_ml**2)))**(-1)\n",
    "\n",
    "        # normal wishart\n",
    "        mu_0 = 0\n",
    "        lmbda_0 = 0.001\n",
    "        alpha_0 = 1\n",
    "        beta_0 = 0.0001\n",
    "        mu_N = (lmbda_0 * mu_0 + N * mu_ml) / (lmbda_0 + N)\n",
    "        lmbda_N = lmbda_0 + N\n",
    "        # alpha and beta to variance\n",
    "        alpha_N = alpha_0 + N/2\n",
    "        beta_N = beta_0 + 0.5 * N*sigma_ml**2 \\\n",
    "                 + 0.5 * (lmbda_0*N*(mu_ml-mu_0)**2)/(lmbda_0 + N)\n",
    "        df = alpha_N\n",
    "        loc = mu_N\n",
    "        scale = (beta_N * (lmbda_N + 1)) / (alpha_N * lmbda_N)\n",
    "        mean, var, skew, kurt = t.stats(df=5, loc=loc, scale=scale, moments='mvsk')\n",
    "        print(np.abs(mean - mu_N).sum())\n",
    "        #return mu_N, (alpha_N * beta_N**(-1))**(-1)\n",
    "        return mean, np.sqrt(var)\n",
    "\n",
    "#y[200:400] += np.random.randn(200)\n",
    "#rand_indices = np.arange(int(len(X)*0.4))\n",
    "#idx = np.append(rand_indices, np.random.choice(np.arange(400, 800), replace=False,\n",
    "#                size=int(10)))\n",
    "x_axis = np.linspace(-5, 5, 100)\n",
    "y = np.sin(x_axis) + np.random.rand(len(x_axis))*0.001\n",
    "X = x_axis.reshape(-1, 1)\n",
    "y = StandardScaler().fit_transform(y.reshape(-1, 1)).ravel()\n",
    "idx = np.random.choice(np.arange(len(X)), replace=False, size=int(0.25*len(X)))\n",
    "X_train = X[idx]\n",
    "y_train = y[idx]\n",
    "\n",
    "sc = StandardScaler().fit(X_train)\n",
    "X_train = sc.transform(X_train)\n",
    "X = sc.transform(X)\n",
    "x_axis = np.linspace(X.min(), X.max(), 1000)\n",
    "\n",
    "n_samples = len(X_train)\n",
    "n_features = 1\n",
    "nominator = 2 * n_samples * n_features\n",
    "denominator = (n_samples - 1) * np.log((n_samples - 1) / ((np.sqrt(2) * 10 ** -6) ** 2))\n",
    "bandwidth = np.sqrt(nominator / denominator)\n",
    "print('bandwidth: {}'.format(str(bandwidth)))\n",
    "gamma = (bandwidth ** (-2))\n",
    "\n",
    "pwr = PWR(metric_dict={'gamma': gamma}).fit(X_train, y_train)\n",
    "y_pred, var_pred = pwr.predict_freq(x_axis.reshape(-1, 1))\n",
    "\n",
    "n_std = 1\n",
    "plt.scatter(X_train.flatten(), y_train)\n",
    "plt.plot(x_axis, y_pred)\n",
    "plt.err(x_axis, y_pred+n_std*var_pred, y_pred-n_std*var_pred, alpha=0.35)\n",
    "plt.ylim(-3, 3)\n",
    "plt.show()"
   ]
  },
  {
   "cell_type": "code",
   "execution_count": null,
   "metadata": {
    "pycharm": {
     "name": "#%%\n"
    }
   },
   "outputs": [],
   "source": []
  },
  {
   "cell_type": "code",
   "execution_count": null,
   "metadata": {},
   "outputs": [],
   "source": []
  }
 ],
 "metadata": {
  "kernelspec": {
   "display_name": "Python 3 (ipykernel)",
   "language": "python",
   "name": "python3"
  },
  "language_info": {
   "codemirror_mode": {
    "name": "ipython",
    "version": 3
   },
   "file_extension": ".py",
   "mimetype": "text/x-python",
   "name": "python",
   "nbconvert_exporter": "python",
   "pygments_lexer": "ipython3",
   "version": "3.9.6"
  }
 },
 "nbformat": 4,
 "nbformat_minor": 2
}