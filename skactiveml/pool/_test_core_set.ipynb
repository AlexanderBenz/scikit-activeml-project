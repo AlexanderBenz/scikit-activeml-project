{
 "cells": [
  {
   "cell_type": "markdown",
   "metadata": {},
   "source": [
    "Core Set Query Strategy"
   ]
  },
  {
   "cell_type": "code",
   "execution_count": 2,
   "metadata": {},
   "outputs": [],
   "source": [
    "import numpy as np\n",
    "\n",
    "from skactiveml.base import SingleAnnotatorPoolQueryStrategy\n",
    "from skactiveml.utils import MISSING_LABEL, simple_batch\n",
    "from sklearn.metrics import pairwise_distances"
   ]
  },
  {
   "cell_type": "markdown",
   "metadata": {},
   "source": [
    "Implement Class Core Set"
   ]
  },
  {
   "cell_type": "code",
   "execution_count": 4,
   "metadata": {},
   "outputs": [],
   "source": [
    "class CoreSet(SingleAnnotatorPoolQueryStrategy):\n",
    "    def __init__(\n",
    "        self, missing_label=MISSING_LABEL, random_state=None, method='greedy'\n",
    "    ):\n",
    "        super().__init__(\n",
    "            missing_label=missing_label, random_state=random_state\n",
    "        )\n",
    "\n",
    "        self.method = method\n",
    "        self.min_distances = None # should be a ndarray of the distance to the neareste cluster center\n",
    "        self.selected_samples = []\n",
    "    \n",
    "    def query(\n",
    "            self, \n",
    "            X, \n",
    "            y,\n",
    "            candidates=None,\n",
    "            batch_size=1,\n",
    "            return_utilities=False,\n",
    "        ):\n",
    "        \n",
    "         X, y, candidates, batch_size, return_utilities = self._validate_data(\n",
    "            X, y, candidates, batch_size, return_utilities, reset=True\n",
    "        )\n",
    "         \n",
    "         X_cand, mapping = self._transform_candidates(candidates, X, y)\n",
    "         \n",
    "         if self.method == 'greedy':\n",
    "             query_indices = self.kCenterGreedy(X, batch_size)\n",
    "\n",
    "         if return_utilities:\n",
    "             return query_indices\n",
    "         else:\n",
    "             return query_indices\n",
    "    \n",
    "    def kCenterGreedy(self, X, batch_size):\n",
    "        if len(self.selected_samples) > 0:\n",
    "            self.update_distances(self.selected_samples, False)\n",
    "\n",
    "        new_samples = []\n",
    "\n",
    "        for _ in range(batch_size):\n",
    "            if len(self.selectedSample) == 0:\n",
    "                idx = np.random.choice(np.arange(X.shape[0]))\n",
    "            else:\n",
    "                idx = np.argmax(self.min_distances)\n",
    "            assert idx not in self.selected_samples\n",
    "\n",
    "            self.update_distances([idx], only_new=True)\n",
    "\n",
    "            new_samples.append(idx)\n",
    "            self.selected_samples.append(idx)\n",
    "                \n",
    "        return new_samples\n",
    "    \n",
    "    def update_distances(self, cluster_centers, only_new):\n",
    "        if only_new:\n",
    "            cluster_centers = [c for c in cluster_centers\n",
    "                               if c not in self.selected_samples]\n",
    "\n",
    "        cluster_center_feature = self.X[cluster_centers]\n",
    "        dist_matrix = pairwise_distances(self.X, cluster_center_feature)\n",
    "        dist = np.min(dist_matrix, axis=1).reshape(-1,1)\n",
    "\n",
    "        if self.min_distances is None:\n",
    "            self.min_distances = dist\n",
    "        else:\n",
    "            self.min_distances = np.minimum(self.min_distances, dist)\n",
    "        \n"
   ]
  }
 ],
 "metadata": {
  "kernelspec": {
   "display_name": "Python 3",
   "language": "python",
   "name": "python3"
  },
  "language_info": {
   "codemirror_mode": {
    "name": "ipython",
    "version": 3
   },
   "file_extension": ".py",
   "mimetype": "text/x-python",
   "name": "python",
   "nbconvert_exporter": "python",
   "pygments_lexer": "ipython3",
   "version": "3.11.0"
  }
 },
 "nbformat": 4,
 "nbformat_minor": 2
}
