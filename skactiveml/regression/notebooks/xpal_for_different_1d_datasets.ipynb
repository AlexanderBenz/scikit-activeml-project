{
 "cells": [
  {
   "cell_type": "code",
   "execution_count": 28,
   "metadata": {
    "pycharm": {
     "name": "#%%\n"
    }
   },
   "outputs": [],
   "source": [
    "import itertools\n",
    "import numpy as np\n",
    "import matplotlib.pyplot as plt\n",
    "from sklearn.datasets import make_regression\n",
    "from sklearn.linear_model import LinearRegression\n",
    "from skactiveml.regressor.estimator._ngke import NormalGammaKernelEstimator\n",
    "from skactiveml.utils import check_random_state\n",
    "from skactiveml.regression._reg_xpal import RegxPal\n",
    "from skactiveml.regressor._nwr import NWR\n",
    "from skactiveml.regressor._wrapper import SklearnRegressor\n",
    "from skactiveml.utils import unlabeled_indices\n",
    "from sklearn.ensemble import RandomForestRegressor"
   ]
  },
  {
   "cell_type": "code",
   "execution_count": 21,
   "metadata": {
    "pycharm": {
     "name": "#%%\n"
    }
   },
   "outputs": [],
   "source": [
    "def make_non_linear_regression(interval, function, density, deviation, n_samples,\n",
    "                    random_state=None, n_mc_samples=10):\n",
    "\n",
    "    random_state = check_random_state(random_state)\n",
    "    a = interval[0]\n",
    "    b = interval[1]\n",
    "\n",
    "    samples = (b-a)*random_state.random_sample((n_samples, n_mc_samples)) + a\n",
    "    mc_indices = np.zeros(n_samples, dtype=int)\n",
    "    K = np.zeros((n_samples, n_mc_samples))\n",
    "    for i, j in itertools.product(range(n_samples), range(n_mc_samples)):\n",
    "        K[i, j] = density(samples[i, j])\n",
    "    for i in range(n_samples):\n",
    "        p = K[i]/np.sum(K[i]) if np.sum(K[i]) != 0 else None\n",
    "        mc_indices[i] = random_state.choice(n_mc_samples, p=p)\n",
    "    X = samples[np.arange(n_samples), mc_indices]\n",
    "    y = np.zeros(n_samples)\n",
    "    for i, x in enumerate(X):\n",
    "        y[i] = random_state.normal(function(x), deviation(x))\n",
    "\n",
    "    return X, y\n",
    "\n",
    "def high_at_border(interval, scalar=1):\n",
    "    a = interval[0]\n",
    "    b = interval[1]\n",
    "    norm = 1 if a + b == 0 else np.abs(a+b)\n",
    "    def noise(x):\n",
    "        return 1/2*np.abs(x-1/2*(a+b))/norm\n",
    "    return noise\n",
    "\n",
    "def high_at_center(interval, scalar=1):\n",
    "    a = interval[0]\n",
    "    b = interval[1]\n",
    "    norm = 1 if a + b == 0 else np.abs(a+b)\n",
    "    def noise(x):\n",
    "        return 1-1/2*np.abs(x-1/2*(a+b))/norm\n",
    "    return noise\n",
    "\n",
    "def base_function(x, epsilon=0.1):\n",
    "    noise = (np.array(x > 0, dtype=int) + np.array(x < 0.5, dtype=int) - 1)*np.random.normal(scale=0.1)\n",
    "    return np.sin(x)"
   ]
  },
  {
   "cell_type": "code",
   "execution_count": 22,
   "metadata": {},
   "outputs": [],
   "source": [
    "interval = [-2, 2]\n",
    "a, b = interval\n",
    "x = np.linspace(a, b, 100)"
   ]
  },
  {
   "cell_type": "code",
   "execution_count": 27,
   "metadata": {
    "pycharm": {
     "name": "#%%\n"
    }
   },
   "outputs": [
    {
     "data": {
      "image/png": "[encoded data removed]",
      "text/plain": [
       "<Figure size 432x288 with 1 Axes>"
      ]
     },
     "metadata": {
      "needs_background": "light"
     },
     "output_type": "display_data"
    },
    {
     "ename": "TypeError",
     "evalue": "'numpy.ndarray' object is not callable",
     "output_type": "error",
     "traceback": [
      "\u001B[1;31m---------------------------------------------------------------------------\u001B[0m",
      "\u001B[1;31mTypeError\u001B[0m                                 Traceback (most recent call last)",
      "\u001B[1;32m~\\AppData\\Local\\Temp/ipykernel_15664/861249424.py\u001B[0m in \u001B[0;36m<module>\u001B[1;34m\u001B[0m\n\u001B[0;32m     20\u001B[0m \u001B[1;33m\u001B[0m\u001B[0m\n\u001B[0;32m     21\u001B[0m \u001B[1;32mfor\u001B[0m \u001B[0mi\u001B[0m \u001B[1;32min\u001B[0m \u001B[0mrange\u001B[0m\u001B[1;33m(\u001B[0m\u001B[1;36m20\u001B[0m\u001B[1;33m)\u001B[0m\u001B[1;33m:\u001B[0m\u001B[1;33m\u001B[0m\u001B[1;33m\u001B[0m\u001B[0m\n\u001B[1;32m---> 22\u001B[1;33m     \u001B[0munlabeled_idx\u001B[0m \u001B[1;33m=\u001B[0m \u001B[0munlabeled_indices\u001B[0m\u001B[1;33m(\u001B[0m\u001B[0my\u001B[0m\u001B[1;33m)\u001B[0m\u001B[1;33m\u001B[0m\u001B[1;33m\u001B[0m\u001B[0m\n\u001B[0m\u001B[0;32m     23\u001B[0m     \u001B[0mX_cand\u001B[0m \u001B[1;33m=\u001B[0m \u001B[0mX\u001B[0m\u001B[1;33m[\u001B[0m\u001B[0munlabeled_idx\u001B[0m\u001B[1;33m]\u001B[0m\u001B[1;33m\u001B[0m\u001B[1;33m\u001B[0m\u001B[0m\n\u001B[0;32m     24\u001B[0m     cand_indices, utilities = qs.query(X_cand.reshape(-1, 1), reg, E.reshape(-1, 1), X.reshape(-1, 1),\n",
      "\u001B[1;31mTypeError\u001B[0m: 'numpy.ndarray' object is not callable"
     ]
    }
   ],
   "source": [
    "X = np.linspace(-1, 1, 100)\n",
    "y_true = base_function(X)\n",
    "estimator = NormalGammaKernelEstimator(metric_dict={'gamma': 10.0}, lmbda_0=10.0,\n",
    "                                       beta_0=1.1, alpha_0=10.0)\n",
    "qs = RegxPal(random_state=0, )\n",
    "\n",
    "reg = NWR(metric_dict={'gamma': 10.0})\n",
    "reg = SklearnRegressor(estimator=LinearRegression())\n",
    "\n",
    "X = X_test\n",
    "y = np.nan * y_test\n",
    "E = X\n",
    "\n",
    "for i in range(20):\n",
    "    unlabeled_idx = unlabeled_indices(y)\n",
    "    X_cand = X[unlabeled_idx]\n",
    "    cand_indices, utilities = qs.query(X_cand.reshape(-1, 1), reg, E.reshape(-1, 1), X.reshape(-1, 1),\n",
    "                                                y, batch_size=1, assume_linear=True, return_utilities=True)\n",
    "    query_indices = unlabeled_idx[cand_indices]\n",
    "    y[query_indices] = y_test[query_indices]\n",
    "    reg.fit(X, y)\n",
    "\n",
    "    plt.scatter(X_cand, utilities)\n",
    "    plt.show()\n",
    "\n",
    "    y_pred = reg.predict(X_cand.reshape(-1, 1))\n",
    "    \n",
    "    plt.scatter(X_test, y_test)\n",
    "    plt.scatter(X_cand, y_pred)\n",
    "    plt.scatter(X[~np.isnan(y)], y[~np.isnan(y)])\n",
    "    plt.show()"
   ]
  },
  {
   "cell_type": "code",
   "execution_count": 5,
   "metadata": {},
   "outputs": [
    {
     "name": "stdout",
     "output_type": "stream",
     "text": [
      "\n"
     ]
    }
   ],
   "source": [
    "print()"
   ]
  },
  {
   "cell_type": "code",
   "execution_count": null,
   "metadata": {},
   "outputs": [],
   "source": []
  }
 ],
 "metadata": {
  "kernelspec": {
   "display_name": "Python 3 (ipykernel)",
   "language": "python",
   "name": "python3"
  },
  "language_info": {
   "codemirror_mode": {
    "name": "ipython",
    "version": 3
   },
   "file_extension": ".py",
   "mimetype": "text/x-python",
   "name": "python",
   "nbconvert_exporter": "python",
   "pygments_lexer": "ipython3",
   "version": "3.9.0"
  }
 },
 "nbformat": 4,
 "nbformat_minor": 1
}